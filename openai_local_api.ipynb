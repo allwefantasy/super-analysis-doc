{
 "cells": [
  {
   "cell_type": "markdown",
   "metadata": {},
   "source": [
    "# Using OpenAI SDK to Access Local API\n",
    "\n",
    "This notebook demonstrates how to use the OpenAI SDK to interact with a locally running API at http://127.0.0.1:8000/v1."
   ]
  },
  {
   "cell_type": "code",
   "execution_count": 2,
   "metadata": {},
   "outputs": [],
   "source": [
    "# Import required libraries\n",
    "from openai import OpenAI\n",
    "import os"
   ]
  },
  {
   "cell_type": "code",
   "execution_count": 3,
   "metadata": {},
   "outputs": [],
   "source": [
    "# Configure the OpenAI client to use the local API\n",
    "client = OpenAI(\n",
    "    base_url=\"http://127.0.0.1:8000/v1\",\n",
    "    api_key=\"your-api-key-here\"  # Replace with your actual API key if required\n",
    ")"
   ]
  },
  {
   "cell_type": "code",
   "execution_count": 3,
   "metadata": {},
   "outputs": [
    {
     "name": "stdout",
     "output_type": "stream",
     "text": [
      "Available models:\n",
      "- \n"
     ]
    }
   ],
   "source": [
    "# Test the connection by listing available models\n",
    "models = client.models.list()\n",
    "print(\"Available models:\")\n",
    "for model in models:\n",
    "    print(f\"- {model.id}\")"
   ]
  },
  {
   "cell_type": "code",
   "execution_count": 4,
   "metadata": {},
   "outputs": [],
   "source": [
    "## 注意，电影相关的表只有对电影的描述，并没有类型标签\n",
    "## 系统会自动使用大模型根据电影的描述识别出电影是不是和纯美爱情有关，然后再做统计\n",
    "def query(q: str):\n",
    "    chat_completion = client.chat.completions.create(\n",
    "        model=\"deepseek_chat\",\n",
    "        messages=[\n",
    "            {\"role\": \"user\", \"content\": q}\n",
    "        ],\n",
    "    )\n",
    "    import json\n",
    "\n",
    "    v = json.loads(chat_completion.choices[0].message.content)\n",
    "    return v[\"data\"][0]\n",
    "\n",
    "def gen_sql(q: str):\n",
    "    chat_completion = client.chat.completions.create(\n",
    "        model=\"deepseek_chat\",\n",
    "        messages=[\n",
    "            {\"role\": \"user\", \"content\": q}\n",
    "        ],\n",
    "    )\n",
    "    v = chat_completion.choices[0].message.content\n",
    "    return v"
   ]
  },
  {
   "cell_type": "markdown",
   "metadata": {},
   "source": [
    " ## 注意\n",
    " 因为后续部分case 大模型会对每条记录做处理，这个数据集也还是比较大的，你需要手工把 movies_metadata.csv 文件中的数据量减少到 1000 条左右, 以便测试或者避免长时间等待。"
   ]
  },
  {
   "cell_type": "code",
   "execution_count": 10,
   "metadata": {},
   "outputs": [
    {
     "name": "stdout",
     "output_type": "stream",
     "text": [
      "{'user_count': 270896}\n"
     ]
    }
   ],
   "source": [
    "print(query(\"帮我统计下打分的用户数量\"))"
   ]
  },
  {
   "cell_type": "code",
   "execution_count": 5,
   "metadata": {},
   "outputs": [
    {
     "name": "stdout",
     "output_type": "stream",
     "text": [
      "-- 加载 ratings.csv 文件\n",
      "load csv.`/Users/allwefantasy/data/movice/ratings.csv` where header=\"true\" as ratings_table;\n",
      "\n",
      "-- 统计打分的用户数量\n",
      "select count(distinct userId) as user_count from ratings_table as output;\n",
      "\n"
     ]
    }
   ],
   "source": [
    "print(gen_sql(\"帮我统计下打分的用户数量\"))"
   ]
  },
  {
   "cell_type": "code",
   "execution_count": 9,
   "metadata": {},
   "outputs": [
    {
     "name": "stdout",
     "output_type": "stream",
     "text": [
      "{'user_count': 270896}\n"
     ]
    }
   ],
   "source": [
    "## 这里，因为用户的描述是不精准的，比如说包含了安迪的玩具，\n",
    "## 实际原文是： Led by Woody, Andy's toys live happily in his room until Andy's birthday brings Buzz Lightyear onto the scene.\n",
    "print(query(\"帮我统计下打分的用户数量,使用 rating表 \"))"
   ]
  },
  {
   "cell_type": "code",
   "execution_count": 7,
   "metadata": {},
   "outputs": [
    {
     "name": "stdout",
     "output_type": "stream",
     "text": [
      "{'id': '862', 'title': 'Toy Story', 'overview': \"Led by Woody, Andy's toys live happily in his room until Andy's birthday brings Buzz Lightyear onto the scene. Afraid of losing his place in Andy's heart, Woody plots against Buzz. But when circumstances separate Buzz and Woody from their owner, the duo eventually learns to put aside their differences.\"}\n"
     ]
    }
   ],
   "source": [
    "## 这里，因为用户的描述是不精准的，比如说包含了安迪的玩具，\n",
    "## 实际原文是： Led by Woody, Andy's toys live happily in his room until Andy's birthday brings Buzz Lightyear onto the scene.\n",
    "print(query(\"帮我找到描述包含了安迪玩具的那个电影。\"))"
   ]
  },
  {
   "cell_type": "code",
   "execution_count": 29,
   "metadata": {},
   "outputs": [
    {
     "name": "stdout",
     "output_type": "stream",
     "text": [
      "{'romance_count': 0}\n"
     ]
    }
   ],
   "source": [
    "## 注意，电影相关的表只有对电影的描述，并没有类型标签\n",
    "## 系统会自动使用大模型根据电影的描述识别出电影是不是和纯美爱情有关，然后再做统计\n",
    "print(query(\"根据电影的描述，统计下纯美爱情的电影数量。\"))\n"
   ]
  },
  {
   "cell_type": "code",
   "execution_count": 31,
   "metadata": {},
   "outputs": [
    {
     "name": "stdout",
     "output_type": "stream",
     "text": [
      "{'user_count': 3986}\n"
     ]
    }
   ],
   "source": [
    "## 这里，我们要先通过对overview 字段做NLP分析，找到目标电影集合，然后关联到打分表，再统计打分的用户数量\n",
    "print(query(\"帮我找到包含了描述包含了安迪玩具的那个电影，然后给该电影打分的用户数量\"))"
   ]
  },
  {
   "cell_type": "code",
   "execution_count": null,
   "metadata": {},
   "outputs": [],
   "source": [
    "## 这里，我们要先通过对overview 字段做NLP分析，找到目标电影集合，然后关联到打分表，再统计打分的用户数量\n",
    "print(query(\"\"))"
   ]
  },
  {
   "cell_type": "code",
   "execution_count": 6,
   "metadata": {},
   "outputs": [
    {
     "name": "stdout",
     "output_type": "stream",
     "text": [
      "-- 加载包含电影描述的表格\n",
      "load csv.`/Users/allwefantasy/data/movice/movies_metadata.csv` where header=\"true\" as movies_metadata;\n",
      "\n",
      "-- 加载用户评分的表格\n",
      "load csv.`/Users/allwefantasy/data/movice/ratings.csv` where header=\"true\" as ratings;\n",
      "\n",
      "-- 使用大模型辅助函数处理电影描述，找出包含“安迪玩具”的电影\n",
      "select \n",
      "id, \n",
      "title, \n",
      "overview, \n",
      "llm_result(deepseek_chat(llm_param(map(\n",
      "              \"instruction\",llm_prompt('\n",
      "\n",
      "根据下面提供的信息，回答用户的问题。\n",
      "\n",
      "信息上下文：\n",
      "```\n",
      "{0}\n",
      "```\n",
      "\n",
      "用户的问题： 电影描述中是否包含“安迪玩具”？\n",
      "请只输出 “是” 或者 “否”\n",
      "',array(overview))\n",
      "\n",
      ")))) as contains_andy_toy\n",
      "from movies_metadata as filtered_movies;\n",
      "\n",
      "-- 过滤出包含“安迪玩具”的电影\n",
      "select id, title from filtered_movies where contains_andy_toy like '%是%' as andy_toy_movies;\n",
      "\n",
      "-- 统计给这些电影打分的用户数量\n",
      "select \n",
      "r.movieId, \n",
      "count(distinct r.userId) as user_count\n",
      "from ratings as r\n",
      "join andy_toy_movies as m on r.movieId = m.id\n",
      "group by r.movieId as user_rating_count;\n",
      "\n",
      "-- 输出结果\n",
      "select * from user_rating_count as output;\n",
      "\n"
     ]
    }
   ],
   "source": [
    "print(gen_sql(\"帮我找到包含了描述包含了安迪玩具的那个电影，然后给该电影打分的用户数量\"))"
   ]
  }
 ],
 "metadata": {
  "kernelspec": {
   "display_name": "Python 3",
   "language": "python",
   "name": "python3"
  },
  "language_info": {
   "codemirror_mode": {
    "name": "ipython",
    "version": 3
   },
   "file_extension": ".py",
   "mimetype": "text/x-python",
   "name": "python",
   "nbconvert_exporter": "python",
   "pygments_lexer": "ipython3",
   "version": "3.10.11"
  }
 },
 "nbformat": 4,
 "nbformat_minor": 4
}
